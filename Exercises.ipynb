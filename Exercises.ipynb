{
 "cells": [
  {
   "cell_type": "markdown",
   "id": "e48b6690",
   "metadata": {},
   "source": [
    "Write a program that generates a random number between 1 and 100. The user has to guess the number in a limited number of attempts. Provide feedback after each guess (higher, lower, or correct)."
   ]
  },
  {
   "cell_type": "code",
   "execution_count": 4,
   "id": "7d89fc6a",
   "metadata": {},
   "outputs": [
    {
     "name": "stdout",
     "output_type": "stream",
     "text": [
      "Guess the number (1-100)! You have 10 tries.\n"
     ]
    },
    {
     "ename": "ValueError",
     "evalue": "invalid literal for int() with base 10: ''",
     "output_type": "error",
     "traceback": [
      "\u001b[31m---------------------------------------------------------------------------\u001b[39m",
      "\u001b[31mValueError\u001b[39m                                Traceback (most recent call last)",
      "\u001b[36mCell\u001b[39m\u001b[36m \u001b[39m\u001b[32mIn[4]\u001b[39m\u001b[32m, line 9\u001b[39m\n\u001b[32m      6\u001b[39m \u001b[38;5;28mprint\u001b[39m(\u001b[33m\"\u001b[39m\u001b[33mGuess the number (1-100)! You have\u001b[39m\u001b[33m\"\u001b[39m, attempts, \u001b[33m\"\u001b[39m\u001b[33mtries.\u001b[39m\u001b[33m\"\u001b[39m)\n\u001b[32m      8\u001b[39m \u001b[38;5;28;01mwhile\u001b[39;00m attempts > \u001b[32m0\u001b[39m:\n\u001b[32m----> \u001b[39m\u001b[32m9\u001b[39m     guess = \u001b[38;5;28;43mint\u001b[39;49m\u001b[43m(\u001b[49m\u001b[38;5;28;43minput\u001b[39;49m\u001b[43m(\u001b[49m\u001b[33;43m\"\u001b[39;49m\u001b[33;43mEnter your guess: \u001b[39;49m\u001b[33;43m\"\u001b[39;49m\u001b[43m)\u001b[49m\u001b[43m)\u001b[49m\n\u001b[32m     11\u001b[39m     \u001b[38;5;28;01mif\u001b[39;00m guess == number:\n\u001b[32m     12\u001b[39m         \u001b[38;5;28mprint\u001b[39m(\u001b[33m\"\u001b[39m\u001b[33mCorrect You guessed it!\u001b[39m\u001b[33m\"\u001b[39m)\n",
      "\u001b[31mValueError\u001b[39m: invalid literal for int() with base 10: ''"
     ]
    }
   ],
   "source": [
    "import random\n",
    "\n",
    "number = random.randint(1, 100)\n",
    "attempts = 10  \n",
    "\n",
    "print(\"Guess the number (1-100)! You have\", attempts, \"tries.\")\n",
    "\n",
    "while attempts > 0:\n",
    "    guess = int(input(\"Enter your guess: \"))\n",
    "    \n",
    "    if guess == number:\n",
    "        print(\"Correct You guessed it!\")\n",
    "        break\n",
    "    elif guess < number:\n",
    "        print(\"Too low\")\n",
    "    else:\n",
    "        print(\"Too high\")\n",
    "    \n",
    "    attempts -= 1\n",
    "\n",
    "if attempts == 0:\n",
    "    print(\"Out of tries. The number was:\", number)\n"
   ]
  },
  {
   "cell_type": "markdown",
   "id": "62b798f0",
   "metadata": {},
   "source": [
    "Write a program that allows the user to enter two numbers and an operator (+, -, *, /) and perform the corresponding calculation. Use conditional statements to handle different operators"
   ]
  },
  {
   "cell_type": "code",
   "execution_count": null,
   "id": "8d4c5e02",
   "metadata": {},
   "outputs": [
    {
     "name": "stdout",
     "output_type": "stream",
     "text": [
      "Result: 300.0\n"
     ]
    }
   ],
   "source": [
    "num1 = float(input(\"Enter first number: \"))\n",
    "operator = input(\"Enter operator (+, -, *, /): \")\n",
    "num2 = float(input(\"Enter second number: \"))\n",
    "\n",
    "if operator == '+':\n",
    "    print(num1 + num2)\n",
    "elif operator == '-':\n",
    "    print(num1 - num2)\n",
    "elif operator == '*':\n",
    "    print(num1 * num2)\n",
    "elif operator == '/':\n",
    "    if num2 != 0:\n",
    "        print(num1 / num2)\n",
    "    else:\n",
    "        print(\" Cannot divide by zero.\")\n",
    "else:\n",
    "    print(\"Invalid operator.\")\n"
   ]
  },
  {
   "cell_type": "markdown",
   "id": "0513c3b5",
   "metadata": {},
   "source": []
  },
  {
   "cell_type": "markdown",
   "id": "e9a07cff",
   "metadata": {},
   "source": [
    "Write a program that uses a while loop to check if a number entered by the user is a prime number (divisible only by 1 and itself)."
   ]
  },
  {
   "cell_type": "code",
   "execution_count": null,
   "id": "79b661ca",
   "metadata": {},
   "outputs": [],
   "source": [
    "num = int(input(\"Enter a number: \"))\n",
    "\n",
    "if num < 2:\n",
    "    print(\"Not a prime number.\")\n",
    "else:\n",
    "    i = 2\n",
    "    is_prime = True\n",
    "\n",
    "    while i <= num // 2:\n",
    "        if num % i == 0:\n",
    "            is_prime = False\n",
    "            break\n",
    "        i += 1\n",
    "\n",
    "    if is_prime:\n",
    "        print(\"Prime number.\")\n",
    "    else:\n",
    "        print(\"Not a prime number.\")\n",
    "\n"
   ]
  },
  {
   "cell_type": "markdown",
   "id": "222d17f6",
   "metadata": {},
   "source": [
    "Write a program that uses a for loop to print the multiplication table of a number entered by the user (up to a specified number of multiples)."
   ]
  },
  {
   "cell_type": "code",
   "execution_count": null,
   "id": "ab5193ca",
   "metadata": {},
   "outputs": [
    {
     "name": "stdout",
     "output_type": "stream",
     "text": [
      "Multiplication Table of 5:\n",
      "5 x 1 = 5\n",
      "5 x 2 = 10\n",
      "5 x 3 = 15\n",
      "5 x 4 = 20\n",
      "5 x 5 = 25\n"
     ]
    }
   ],
   "source": [
    "num = int(input(\"Enter a number: \"))\n",
    "limit = int(input(\"How many multiples? \"))\n",
    "\n",
    "print(f\"Multiplication Table of {num}:\")\n",
    "\n",
    "for i in range(1, limit + 1):\n",
    "    print(f\"{num} x {i} = {num * i}\")\n"
   ]
  },
  {
   "cell_type": "markdown",
   "id": "6070c4e7",
   "metadata": {},
   "source": [
    "positive or negative"
   ]
  },
  {
   "cell_type": "code",
   "execution_count": null,
   "id": "b56dfe8a",
   "metadata": {},
   "outputs": [
    {
     "name": "stdout",
     "output_type": "stream",
     "text": [
      "Number is Positive.\n"
     ]
    }
   ],
   "source": [
    "def check_sign(number):\n",
    "    if number > 0:\n",
    "        return \"Positive\"\n",
    "    elif number < 0:\n",
    "        return \"Negative\"\n",
    "    else:\n",
    "        return \"Zero\"\n",
    "\n",
    "user_input = float(input(\"Enter a number: \"))\n",
    "result = check_sign(user_input)\n",
    "print(f\"Number is {result}.\")\n",
    "\n",
    "\n"
   ]
  },
  {
   "cell_type": "markdown",
   "id": "7f30931e",
   "metadata": {},
   "source": [
    "area of shapes\n"
   ]
  },
  {
   "cell_type": "code",
   "execution_count": null,
   "id": "6d0f3f19",
   "metadata": {},
   "outputs": [
    {
     "name": "stdout",
     "output_type": "stream",
     "text": [
      "Area of the circle is 78.54\n"
     ]
    }
   ],
   "source": [
    "import math\n",
    "\n",
    "def calculate_area(shape, **kwargs):\n",
    "    shape = shape.lower()\n",
    "    \n",
    "    if shape == \"circle\":\n",
    "        radius = kwargs.get(\"radius\")\n",
    "        return math.pi * radius**2 if radius is not None else \"Radius required\"\n",
    "\n",
    "    elif shape == \"rectangle\":\n",
    "        length = kwargs.get(\"length\")\n",
    "        width = kwargs.get(\"width\")\n",
    "        return length * width if None not in (length, width) else \"Length and width required\"\n",
    "\n",
    "    elif shape == \"triangle\":\n",
    "        base = kwargs.get(\"base\")\n",
    "        height = kwargs.get(\"height\")\n",
    "        return 0.5 * base * height if None not in (base, height) else \"Base and height required\"\n",
    "\n",
    "    elif shape == \"square\":\n",
    "        side = kwargs.get(\"side\")\n",
    "        return side**2 if side is not None else \"Side required\"\n",
    "\n",
    "def run_area_calculator():\n",
    "    shape = input(\"Enter the shape (circle, rectangle, triangle, square): \").lower()\n",
    "\n",
    "    if shape == \"circle\":\n",
    "        radius = float(input(\"Enter the radius: \"))\n",
    "        print(f\"Area of the {shape} is {calculate_area(shape, radius=radius):.2f}\")\n",
    "\n",
    "    elif shape == \"rectangle\":\n",
    "        length = float(input(\"Enter the length: \"))\n",
    "        width = float(input(\"Enter the width: \"))\n",
    "        print(f\"Area of the {shape} is {calculate_area(shape, length=length, width=width):.2f}\")\n",
    "\n",
    "    elif shape == \"triangle\":\n",
    "        base = float(input(\"Enter the base: \"))\n",
    "        height = float(input(\"Enter the height: \"))\n",
    "        print(f\"Area of the {shape} is {calculate_area(shape, base=base, height=height):.2f}\")\n",
    "\n",
    "    elif shape == \"square\":\n",
    "        side = float(input(\"Enter the side: \"))\n",
    "        print(f\"Area of the {shape} is {calculate_area(shape, side=side):.2f}\")\n",
    "\n",
    "run_area_calculator()\n"
   ]
  },
  {
   "cell_type": "markdown",
   "id": "29d211ee",
   "metadata": {},
   "source": [
    "Characters"
   ]
  },
  {
   "cell_type": "code",
   "execution_count": null,
   "id": "71cdf4f0",
   "metadata": {},
   "outputs": [
    {
     "name": "stdout",
     "output_type": "stream",
     "text": [
      "The string is valid and contains only a-z, A-Z, and 0-9.\n"
     ]
    }
   ],
   "source": [
    "import re\n",
    "\n",
    "def is_valid_string(input_string):\n",
    "    pattern = r'^[a-zA-Z0-9]+$'\n",
    "    \n",
    "    if re.match(pattern, input_string):\n",
    "        return True\n",
    "    else:\n",
    "        return False\n",
    "\n",
    "user_input = input(\"Enter a string: \")\n",
    "\n",
    "if is_valid_string(user_input):\n",
    "    print(\"The string is valid and contains only a-z, A-Z, and 0-9.\")\n",
    "else:\n",
    "    print(\"The string is invalid. It contains characters outside the allowed set.\")"
   ]
  },
  {
   "cell_type": "markdown",
   "id": "0bd2537c",
   "metadata": {},
   "source": [
    "Password validation"
   ]
  },
  {
   "cell_type": "code",
   "execution_count": 5,
   "id": "3bbe5767",
   "metadata": {},
   "outputs": [
    {
     "name": "stdout",
     "output_type": "stream",
     "text": [
      "Password is invalid. It must be at least 8 characters long, contain at least one uppercase letter, one lowercase letter, one digit, and one special character.\n"
     ]
    }
   ],
   "source": [
    "import re\n",
    "\n",
    "def validate_password(password):\n",
    "    pattern = r'^(?=.*[a-z])(?=.*[A-Z])(?=.*\\d)(?=.*[@$!%*?&])[A-Za-z\\d@$!%*?&]{8,}$'\n",
    "    \n",
    "    if re.match(pattern, password):\n",
    "        return True\n",
    "    else:\n",
    "        return False\n",
    "\n",
    "user_password = input(\"Enter your password: \")\n",
    "\n",
    "if validate_password(user_password):\n",
    "    print(\"Password is valid.\")\n",
    "else:\n",
    "    print(\"Password is invalid. It must be at least 8 characters long, contain at least one uppercase letter, one lowercase letter, one digit, and one special character.\")\n",
    "    "
   ]
  },
  {
   "cell_type": "markdown",
   "id": "ed7c663c",
   "metadata": {},
   "source": [
    "Validate date format"
   ]
  },
  {
   "cell_type": "code",
   "execution_count": null,
   "id": "3b0bafa7",
   "metadata": {},
   "outputs": [],
   "source": [
    "import re\n",
    "from datetime import datetime\n",
    "\n",
    "def is_valid_date(date_string):\n",
    "    pattern = r'^(0[1-9]|[12][0-9]|3[01])/(0[1-9]|1[0-2])/\\d{4}$'\n",
    "    \n",
    "    if re.match(pattern, date_string):\n",
    "        try:\n",
    "            day, month, year = map(int, date_string.split('/'))\n",
    "            datetime(year, month, day)  \n",
    "            return True\n",
    "        except ValueError:\n",
    "            return False\n",
    "    else:\n",
    "        return False\n",
    "\n",
    "# Get user input\n",
    "user_date = input(\"Enter a date (DD/MM/YYYY): \")\n",
    "\n",
    "if is_valid_date(user_date):\n",
    "    print(\"The date is valid.\")\n",
    "else:\n",
    "    print(\"The date is invalid. Please enter a date in the format DD/MM/YYYY.\")"
   ]
  },
  {
   "cell_type": "markdown",
   "id": "b33ead6f",
   "metadata": {},
   "source": [
    "Regex to extract specific info"
   ]
  },
  {
   "cell_type": "code",
   "execution_count": 6,
   "id": "06dc05f8",
   "metadata": {},
   "outputs": [
    {
     "name": "stdout",
     "output_type": "stream",
     "text": [
      "Extracted Email Addresses:\n",
      "example1@test.com\n",
      "example2@test.co.uk\n",
      "\n",
      "Extracted Phone Numbers:\n",
      "123-456-7890\n",
      "987-654-3210\n"
     ]
    }
   ],
   "source": [
    "import re\n",
    "\n",
    "def extract_emails(text):\n",
    "    email_pattern = r'[a-zA-Z0-9._%+-]+@[a-zA-Z0-9.-]+\\.[a-zA-Z]{2,}'\n",
    "    emails = re.findall(email_pattern, text)\n",
    "    return emails\n",
    "\n",
    "def extract_phone_numbers(text):\n",
    "    phone_pattern = r'\\b\\d{3}-\\d{3}-\\d{4}\\b'\n",
    "    phone_numbers = re.findall(phone_pattern, text)\n",
    "    return phone_numbers\n",
    "\n",
    "input_string = \"\"\"\n",
    "    example1@test.com, example2@test.co.uk, and invalid@.com.\n",
    "     123-456-7890, 987-654-3210, and 123-45-6789.\n",
    "\"\"\"\n",
    "\n",
    "emails = extract_emails(input_string)\n",
    "phone_numbers = extract_phone_numbers(input_string)\n",
    "\n",
    "print(\"Extracted Email Addresses:\")\n",
    "for email in emails:\n",
    "    print(email)\n",
    "\n",
    "print(\"\\nExtracted Phone Numbers:\")\n",
    "for phone in phone_numbers:\n",
    "    print(phone)"
   ]
  },
  {
   "cell_type": "markdown",
   "id": "c4213947",
   "metadata": {},
   "source": [
    "Replace text"
   ]
  },
  {
   "cell_type": "code",
   "execution_count": 7,
   "id": "8414eefc",
   "metadata": {},
   "outputs": [
    {
     "name": "stdout",
     "output_type": "stream",
     "text": [
      "Updated String:\n",
      "\n",
      "Ms. Dubow is a software engineer. Ms. Randy is a project manager.\n",
      "Ms. Wahome is a data analyst. They all work at the same company.\n",
      "\n"
     ]
    }
   ],
   "source": [
    "import re\n",
    "\n",
    "def replace_text(text, old, new):\n",
    "    updated_text = re.sub(old, new, text)\n",
    "    return updated_text\n",
    "\n",
    "input_string = \"\"\"\n",
    "Mr. Dubow is a software engineer. Mr. Randy is a project manager.\n",
    "Mr. Wahome is a data analyst. They all work at the same company.\n",
    "\"\"\"\n",
    "\n",
    "old_text = r'Mr\\.'  \n",
    "new_text = 'Ms.'\n",
    "\n",
    "result_string = replace_text(input_string, old_text, new_text)\n",
    "\n",
    "print(\"Updated String:\")\n",
    "print(result_string)"
   ]
  },
  {
   "cell_type": "markdown",
   "id": "37d173cb",
   "metadata": {},
   "source": [
    "OOP- for a school system programm\n"
   ]
  },
  {
   "cell_type": "code",
   "execution_count": 18,
   "id": "c78be79c",
   "metadata": {},
   "outputs": [
    {
     "name": "stdout",
     "output_type": "stream",
     "text": [
      "✅ Grade for Mathematics added for Alvin: 5\n",
      "✅ Grade for Mathematics added for Marvin: 78\n",
      "✅ Grade for Agriculture added for Marvin: 89\n",
      "✅ Grade for CRE added for Alvin: 88\n",
      "✅ Grade for Kiswahili added for Alvin: 92\n",
      "✅ Grade for Agriculture added for Alvin: 85\n",
      "🎓 Alvin amejoin shule officially!\n",
      "\n",
      "=== Karibu Students ===\n",
      "Hi, I'm Alvin and I'm 16 years old.\n",
      "I'm a student with ID 1570. Break ni saa ngapi?!\n",
      "📊 Alvin ako na grades: {'Mathematics': 5, 'CRE': 88, 'Kiswahili': 92, 'Agriculture': 85}\n",
      "\n",
      "=== Average ya Wanafunzi ===\n",
      "Alvin's average: 67.50\n",
      "\n",
      "=== Subject Analysis ===\n",
      "\n",
      "🔍 Checking grades for subject: Mathematics\n",
      "✅ Alvin has Mathematics: 5\n",
      "📈 Average for Mathematics: 5.0\n",
      "\n",
      "🔍 Checking grades for subject: CRE\n",
      "✅ Alvin has CRE: 88\n",
      "📈 Average for CRE: 88.0\n",
      "\n",
      "🔍 Checking grades for subject: Kiswahili\n",
      "✅ Alvin has Kiswahili: 92\n",
      "📈 Average for Kiswahili: 92.0\n",
      "\n",
      "🔍 Checking grades for subject: Agriculture\n",
      "✅ Alvin has Agriculture: 85\n",
      "📈 Average for Agriculture: 85.0\n",
      "\n",
      "🔍 Checking grades for subject: Physics\n",
      "❌ Alvin hana grade ya Physics. Labda alitoroka hiyo lesson 🤷\n",
      "Ayaa! Hakuna mtu amesoma Physics bado.\n"
     ]
    }
   ],
   "source": [
    "class Person:\n",
    "    def __init__(self, name, age):\n",
    "        self.name = name\n",
    "        self.age = age\n",
    "\n",
    "    def introduce(self):\n",
    "        print(f\"Hi, I'm {self.name} and I'm {self.age} years old.\")\n",
    "\n",
    "\n",
    "class Student(Person):\n",
    "    def __init__(self, name, age, student_id):\n",
    "        super().__init__(name, age)\n",
    "        self.__student_id = student_id\n",
    "        self.__grades = {}\n",
    "\n",
    "    def add_grade(self, subject, grade):\n",
    "        if not isinstance(grade, (int, float)) or grade < 0 or grade > 100:\n",
    "            print(f\"Eish! Grade '{grade}' for {subject} is invalid. Between 0 and 100 bana.\")\n",
    "            return\n",
    "        self.__grades[subject] = grade\n",
    "        print(f\"✅ Grade for {subject} added for {self.name}: {grade}\")\n",
    "\n",
    "    def introduce(self):\n",
    "        super().introduce()\n",
    "        print(f\"I'm a student with ID {self.__student_id}. Break ni saa ngapi?!\")\n",
    "\n",
    "    def get_grades(self):\n",
    "        return self.__grades\n",
    "\n",
    "    def calculate_average(self):\n",
    "        if not self.__grades:\n",
    "            return \"Hatujapata grades bado. Huyu ana enjoy life bila pressure.\"\n",
    "        return sum(self.__grades.values()) / len(self.__grades)\n",
    "\n",
    "\n",
    "class School:\n",
    "    def __init__(self):\n",
    "        self.students = []\n",
    "\n",
    "    def add_student(self, student):\n",
    "        if isinstance(student, Student):\n",
    "            self.students.append(student)\n",
    "            print(f\"🎓 {student.name} amejoin shule officially!\")\n",
    "        else:\n",
    "            print(\"Hiyo jamaa si student! Atupe ID kwanza.\")\n",
    "\n",
    "    def show_all_students(self):\n",
    "        for student in self.students:\n",
    "            student.introduce()\n",
    "            grades = student.get_grades()\n",
    "            if not grades:\n",
    "                print(f\"📚 {student.name} bado hajaanza kusoma ama ni undercover? Hakuna grade hata moja!\\n\")\n",
    "            else:\n",
    "                print(f\"📊 {student.name} ako na grades: {grades}\\n\")\n",
    "\n",
    "    def get_average_grade(self, subject):\n",
    "        total = 0\n",
    "        count = 0\n",
    "        print(f\"\\n🔍 Checking grades for subject: {subject}\")\n",
    "        for student in self.students:\n",
    "            grades = student.get_grades()\n",
    "            if subject in grades:\n",
    "                print(f\"✅ {student.name} has {subject}: {grades[subject]}\")\n",
    "                total += grades[subject]\n",
    "                count += 1\n",
    "            else:\n",
    "                print(f\"❌ {student.name} hana grade ya {subject}. Labda alitoroka hiyo lesson 🤷\")\n",
    "        if count == 0:\n",
    "            return f\"Ayaa! Hakuna mtu amesoma {subject} bado.\"\n",
    "        return f\"📈 Average for {subject}: {round(total / count, 2)}\"\n",
    "\n",
    "\n",
    "my_school = School()\n",
    "\n",
    "student1 = Student(\"Alvin\", 16, \"1570\")\n",
    "student2 = Student(\"Marvin\", 17, \"1268\")\n",
    "student3 = Student(\"Brian\", 15, \"1456\")\n",
    "\n",
    "student1.add_grade(\"Mathematics\", 5)\n",
    "student2.add_grade(\"Mathematics\", 78)\n",
    "student2.add_grade(\"Agriculture\", 89)\n",
    "student1.add_grade(\"CRE\", 88)\n",
    "student1.add_grade(\"Kiswahili\", 92)\n",
    "student1.add_grade(\"Agriculture\", 85)\n",
    "\n",
    "my_school.add_student(student1)\n",
    "\n",
    "print(\"\\n=== Karibu Students ===\")\n",
    "my_school.show_all_students()\n",
    "\n",
    "print(\"=== Average ya Wanafunzi ===\")\n",
    "for student in my_school.students:\n",
    "    avg = student.calculate_average()\n",
    "    if isinstance(avg, str):\n",
    "        print(f\"{student.name}'s average: {avg}\")\n",
    "    else:\n",
    "        print(f\"{student.name}'s average: {avg:.2f}\")\n",
    "\n",
    "print(\"\\n=== Subject Analysis ===\")\n",
    "subjects_to_check = [\"Mathematics\", \"CRE\", \"Kiswahili\", \"Agriculture\", \"Physics\"]\n",
    "for subject in subjects_to_check:\n",
    "    result = my_school.get_average_grade(subject)\n",
    "    print(result)\n"
   ]
  }
 ],
 "metadata": {
  "kernelspec": {
   "display_name": "virtual",
   "language": "python",
   "name": "python3"
  },
  "language_info": {
   "codemirror_mode": {
    "name": "ipython",
    "version": 3
   },
   "file_extension": ".py",
   "mimetype": "text/x-python",
   "name": "python",
   "nbconvert_exporter": "python",
   "pygments_lexer": "ipython3",
   "version": "3.13.2"
  }
 },
 "nbformat": 4,
 "nbformat_minor": 5
}
